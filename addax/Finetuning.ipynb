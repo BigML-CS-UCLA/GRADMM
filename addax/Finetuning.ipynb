{
 "cells": [
  {
   "cell_type": "markdown",
   "metadata": {},
   "source": [
    "# Print fine-tuning paths"
   ]
  },
  {
   "cell_type": "code",
   "execution_count": null,
   "metadata": {},
   "outputs": [],
   "source": [
    "import os\n",
    "import glob\n",
    "\n",
    "file_dir = '../gradmm/synthetic_data/'\n",
    "exp_pattern = 'test' # Change the pattern here\n",
    "json_pattern = 'synthetic_data_clean_remove_cls_phi_sst2_positive_negative_instrFalse_fsTrue_top*.jsonl' # Change the pattern here\n",
    "training_dir = glob.glob(os.path.join(file_dir, f'{exp_pattern}', f'{json_pattern}'))\n",
    "\n",
    "print(len(training_dir))"
   ]
  },
  {
   "cell_type": "code",
   "execution_count": null,
   "metadata": {},
   "outputs": [],
   "source": [
    "for run in training_dir:\n",
    "    print(' ' * 4 + run)"
   ]
  },
  {
   "cell_type": "markdown",
   "metadata": {},
   "source": [
    "# Collect fine-tuning results"
   ]
  },
  {
   "cell_type": "code",
   "execution_count": null,
   "metadata": {},
   "outputs": [],
   "source": [
    "import os\n",
    "import glob\n",
    "import json\n",
    "from collections import defaultdict\n",
    "\n",
    "import pandas as pd\n",
    "\n",
    "# Insert fine-tuning paths here\n",
    "list_exp_path = [\n",
    "    \n",
    "]\n",
    "\n",
    "df_data = defaultdict(list)\n",
    "list_param = [\"syn_data_path\", \"per_device_train_batch_size\", \"learning_rate\", \"max_steps\", \"num_train\", \"model_name\", \"task_name\"]\n",
    "list_metric = [\"best_valid_acc\", \"best_valid_step\", \"best_valid_per_class_acc\", \"best_test_metric\", \"best_test_step\", \"best_test_per_class_acc\"]\n",
    "\n",
    "for exp_path in list_exp_path:\n",
    "    for output_path in glob.glob(os.path.join(exp_path, '*')):\n",
    "        with open(os.path.join(output_path, \"output/main_results.json\"), \"rb\") as in_file:\n",
    "            main_results = json.load(in_file)\n",
    "        \n",
    "        for param in list_param:\n",
    "            df_data[param].append(main_results[\"args\"][param])\n",
    "        \n",
    "        for metric in list_metric:\n",
    "            df_data[metric].append(main_results[metric])\n",
    "\n",
    "df = pd.DataFrame(df_data)\n",
    "print(df.shape)\n",
    "display(df.head())"
   ]
  }
 ],
 "metadata": {
  "kernelspec": {
   "display_name": "gradmm",
   "language": "python",
   "name": "python3"
  },
  "language_info": {
   "codemirror_mode": {
    "name": "ipython",
    "version": 3
   },
   "file_extension": ".py",
   "mimetype": "text/x-python",
   "name": "python",
   "nbconvert_exporter": "python",
   "pygments_lexer": "ipython3",
   "version": "3.11.13"
  }
 },
 "nbformat": 4,
 "nbformat_minor": 2
}
